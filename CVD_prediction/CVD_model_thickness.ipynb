{
 "cells": [
  {
   "cell_type": "markdown",
   "metadata": {},
   "source": [
    "# Modelling and prediction of a CVD process\n",
    "\n",
    "## Problem\n",
    "- Model layer thickness resulting from a CVD process, based on set of DOE data\n",
    "- Thickness was measured at 49 sites across a wafer\n",
    "\n",
    "## Goals\n",
    "1. Use regression model to predict thickness for every single site\n",
    "2. Adapt model to also consider X and Y coordinates of the site to form a single model\n",
    "3. Implement model to include temperature as process parameter\n",
    "\n",
    "## Possible improvements\n",
    "- Hyperparameter tuning for ANN, improve stability of model quality, show learning rate\n",
    "- Encode TOOL into dummy variables instead of scalar\n",
    "- Encode X, Y coordinates into dummy variables / allow for prediction based on any X and Y coordinates, not only fixed sites"
   ]
  },
  {
   "cell_type": "markdown",
   "metadata": {},
   "source": [
    "## 1. Preprocessing\n",
    "### Import data\n",
    "- Import raw data from csv files\n",
    "- Set all independant variables as X as array\n",
    "- Set dependant variable Layer thickness as y\n",
    "\n",
    "### Split data & Feature scaling\n",
    "- Split into training and test data (75:25)\n",
    "- Fix seed for randomness\n",
    "- Scale all features using StandardScaler\n",
    "\n",
    "### Inlcude temperature in model\n",
    "- Thickness factors from literature:\n",
    "  - 500 °C = 0.94\n",
    "  - 480 °C = 1.0 (*default*)\n",
    "  - 460 °C = 1.04\n",
    "- Calculated scaling formula for CVD thickness d depending on temperature:\n",
    "  - d = d_0 * (-0.0025 * temperature + 2.1933)\n",
    "  - temperature_factor(480) = 1 (except rounding error)\n",
    "- Temperature is not needed as feature in training data since linear model is assumed  "
   ]
  },
  {
   "cell_type": "code",
   "execution_count": 275,
   "metadata": {},
   "outputs": [],
   "source": [
    "import pandas as pd\n",
    "import numpy as np\n",
    "from tkinter import *\n",
    "from tkinter.ttk import Combobox\n",
    "from matplotlib.figure import Figure\n",
    "from matplotlib.backends.backend_tkagg import FigureCanvasTkAgg\n",
    "from numpy.random import seed\n",
    "from sklearn.metrics import r2_score\n",
    "from sklearn.model_selection import cross_val_score, train_test_split\n",
    "from sklearn.preprocessing import StandardScaler, OneHotEncoder, PolynomialFeatures\n",
    "from keras.layers import Dense\n",
    "from keras.models import Sequential\n",
    "from keras.optimizers import RMSprop\n",
    "from tensorflow import random\n",
    "\n",
    "%matplotlib inline\n",
    "from matplotlib import pyplot as plt\n",
    "plt.rcParams['figure.figsize'] = [10, 8]\n",
    "\n",
    "seed(0)\n",
    "random.set_seed(0)\n",
    "\n",
    "DIR = './'\n",
    "SITES = 'site_coordinates.csv'\n",
    "DATA = 'test_assignment_sim.csv'\n",
    "\n",
    "raw_sites = pd.read_csv(DIR+SITES)\n",
    "raw_data = pd.read_csv(DIR+DATA)\n",
    "\n",
    "X = raw_data.iloc[:,0:4]\n",
    "y = raw_data.iloc[:,4:53]\n",
    "\n",
    "def preprocess(X, y):\n",
    "    X_train, X_test, y_train, y_test = train_test_split(X, y, test_size = 0.25, random_state = 0)\n",
    "    sc_X = StandardScaler()\n",
    "    X_train = sc_X.fit_transform(X_train)\n",
    "    X_test = sc_X.transform(X_test)\n",
    "    sc_y = StandardScaler()\n",
    "    y_train = sc_y.fit_transform(y_train)\n",
    "    return X_train, X_test, y_train, y_test, sc_X, sc_y\n",
    "\n",
    "def temperature_factor(temperature):\n",
    "    '''Returns CVD layer thickness scaling factor for a given temperature.'''\n",
    "    return -0.0025 * float(temperature) + 2.1933"
   ]
  },
  {
   "cell_type": "markdown",
   "metadata": {},
   "source": [
    "## 2. Train model"
   ]
  },
  {
   "cell_type": "code",
   "execution_count": 239,
   "metadata": {},
   "outputs": [
    {
     "name": "stdout",
     "output_type": "stream",
     "text": [
      "r^2 score:  0.981680264282583\n"
     ]
    }
   ],
   "source": [
    "# 4 input nodes\n",
    "# 2 layers of 27 nodes\n",
    "# 49 output nodes\n",
    "\n",
    "X_train, X_test, y_train, y_test, sc_X, sc_y = preprocess(X, y)\n",
    "regressor = Sequential()\n",
    "regressor.add(Dense(units=27, activation='relu', input_dim=X_train.shape[1]))\n",
    "regressor.add(Dense(units=27, activation='relu'))\n",
    "regressor.add(Dense(units=49))\n",
    "regressor.compile(optimizer=RMSprop(0.001), loss='mse', metrics=['mae','mse'])\n",
    "regressor.fit(X_train, y_train, batch_size=10, epochs=200, verbose=0, use_multiprocessing=True)\n",
    "y_pred = sc_y.inverse_transform(regressor.predict(X_test))\n",
    "r2_ann_multi = r2_score(y_test, y_pred)\n",
    "print('r^2 score: ', r2_ann_multi);"
   ]
  },
  {
   "cell_type": "markdown",
   "metadata": {},
   "source": [
    "## 3. Predictions\n",
    "- Defines prediction function\n",
    "- Creates GUI window to allow easy editing of process parameters or use prediction in notebook\n",
    "- Shows predicted layer thickness for all sites in window\n",
    "- Shows wafer map of thickness distribution in Jupyter notebook after GUI is closed"
   ]
  },
  {
   "cell_type": "code",
   "execution_count": 302,
   "metadata": {},
   "outputs": [],
   "source": [
    "def predict(notebook=False):\n",
    "    if notebook:\n",
    "        flow = 0.92\n",
    "        spacing = 0.35\n",
    "        deptime = 70\n",
    "        temperature = 480\n",
    "        tool = 1\n",
    "    else:\n",
    "        flow = in_flow.get()\n",
    "        spacing = in_spacing.get()\n",
    "        deptime = in_deptime.get()\n",
    "        temperature = in_temperature.get()\n",
    "        tool = cb_tool.get()\n",
    "    \n",
    "    parameters = np.array([flow, spacing, deptime, tool]).reshape(1,-1)\n",
    "    parameters = sc_X.transform(parameters)\n",
    "    print('Process parameters:\\nFLOWFACTOR:\\t{}\\nSPACING:\\t{}\\nDEP TIME:\\t{} s\\nTOOL:\\t\\t#{}\\nTemperature:\\t{} °C\\n'.format(\n",
    "    flow, spacing, deptime, tool, temperature))\n",
    "    y_pred = sc_y.inverse_transform(regressor.predict(parameters)) * temperature_factor(temperature)\n",
    "    \n",
    "    if notebook:\n",
    "        print('Predicted SiO2 layer thickness for all sites (1 - 49):\\n\\n', y_pred)\n",
    "    else: \n",
    "        lbl_result = Label(window, text=\"Thickness prediction: \", font=(\"Helvetica\", 11))\n",
    "        lbl_result.place(x=pos_x_labels, y=y_tool+70)\n",
    "        result_box = Listbox(window, height=20)\n",
    "        for _ in range(0, len(y_pred[0])):\n",
    "            entry = 'Site ' + str(_) + ': ' + str(y_pred[0][_])\n",
    "            result_box.insert(_+1, entry)\n",
    "        result_box.place(x=pos_x_labels+3, y=y_tool+95)\n",
    "    \n",
    "    df_pred = pd.DataFrame()\n",
    "    df_pred['Prediction'] = y_pred.flatten()\n",
    "    df_pred['X'] = raw_sites.SITE_X.values.round(0)\n",
    "    df_pred['Y'] = raw_sites.SITE_Y.values.round(0)\n",
    "    fig, ax1 = plt.subplots()\n",
    "    fig = Figure(figsize = (9, 6), facecolor = \"white\")\n",
    "    ax1.set_title('Predicted SiO2 layer thickness')\n",
    "\n",
    "    df_pred.plot.scatter('X', 'Y', c='Prediction', colormap='Blues', ax=ax1)\n",
    "    return y_pred"
   ]
  },
  {
   "cell_type": "code",
   "execution_count": 298,
   "metadata": {},
   "outputs": [
    {
     "name": "stdout",
     "output_type": "stream",
     "text": [
      "Process parameters:\n",
      "FLOWFACTOR:\t0.92\n",
      "SPACING:\t0.35\n",
      "DEP TIME:\t70 s\n",
      "TOOL:\t\t#1\n",
      "Temperature:\t480 °C\n",
      "\n",
      "Predicted SiO2 layer thickness for all sites (1 - 49):\n",
      "\n",
      " [[1566.6394 1516.5896 1569.493  1568.1709 1566.4678 1565.4136 1570.3058\n",
      "  1570.922  1570.2164 1622.5685 1622.0509 1621.2283 1620.6143 1620.0347\n",
      "  1619.7888 1618.7257 1619.5199 1618.6635 1622.9792 1623.565  1623.6831\n",
      "  1623.9048 1624.4808 1623.137  1623.0607 1599.2683 1598.7465 1598.635\n",
      "  1598.5309 1597.9188 1596.967  1596.46   1596.0399 1594.5374 1594.0562\n",
      "  1593.6328 1592.9905 1593.3906 1596.6774 1596.9202 1598.4688 1598.4441\n",
      "  1598.2537 1598.4424 1599.0908 1599.4822 1599.5094 1599.303  1599.316 ]]\n"
     ]
    },
    {
     "data": {
      "image/png": "[encoded data removed]",
      "text/plain": [
       "<Figure size 720x576 with 2 Axes>"
      ]
     },
     "metadata": {
      "needs_background": "light"
     },
     "output_type": "display_data"
    }
   ],
   "source": [
    "predict(notebook=True);"
   ]
  },
  {
   "cell_type": "code",
   "execution_count": 305,
   "metadata": {},
   "outputs": [],
   "source": [
    "window = Tk()\n",
    "width = 450\n",
    "height = 600\n",
    "pos_x = '+0' # Specify +/- for position from left or right side\n",
    "pos_y = '+0' # Specify +/- for position from left or right side\n",
    "window.title('CVD process predicter')\n",
    "window.geometry('{}x{}{}{}'.format(width, height, pos_x, pos_y))\n",
    "#window.config()\n",
    "\n",
    "lbl_intro = Label(window, text=\"Define process parameters\", font=(\"Helvetica\", 10))\n",
    "lbl_intro.place(x=5, y=5)\n",
    "\n",
    "pos_x_labels = 5\n",
    "pos_y_labels = 35\n",
    "pos_x_in = pos_x_labels + 150\n",
    "\n",
    "lbl_flow = Label(window, text=\"Flow factor: \", font=(\"Helvetica\", 11))\n",
    "lbl_flow.place(x=pos_x_labels, y=pos_y_labels)\n",
    "in_flow = Entry(window, bd=1)\n",
    "in_flow.insert(0, '0.93')\n",
    "in_flow.place(x=pos_x_in, y=pos_y_labels+2)\n",
    "\n",
    "lbl_spacing = Label(window, text=\"Spacing: \", font=(\"Helvetica\", 11))\n",
    "lbl_spacing.place(x=pos_x_labels, y=pos_y_labels+5*6)\n",
    "in_spacing = Entry(window, bd=1)\n",
    "in_spacing.insert(0, '0.35')\n",
    "in_spacing.place(x=pos_x_in, y=pos_y_labels+5*6+2)\n",
    "\n",
    "lbl_deptime = Label(window, text=\"Deposition time [s]: \", font=(\"Helvetica\", 11))\n",
    "lbl_deptime.place(x=pos_x_labels, y=pos_y_labels+5*11)\n",
    "in_deptime = Entry(window, bd=1)\n",
    "in_deptime.insert(0, '68')\n",
    "in_deptime.place(x=pos_x_in, y=pos_y_labels+5*11+2)\n",
    "\n",
    "lbl_temperature = Label(window, text=\"Temperature [°C]: \", font=(\"Helvetica\", 11))\n",
    "lbl_temperature.place(x=pos_x_labels, y=pos_y_labels+5*16)\n",
    "in_temperature = Entry(window, bd=1)\n",
    "in_temperature.insert(0, '480')\n",
    "in_temperature.place(x=pos_x_in, y=pos_y_labels+5*16+2)\n",
    "\n",
    "y_tool = pos_y_labels+5*21\n",
    "lbl_tool = Label(window, text=\"Tool: \", font=(\"Helvetica\", 11))\n",
    "lbl_tool.place(x=pos_x_labels, y=y_tool)\n",
    "cb_tool = Combobox(window, values=['1', '2', '3', '4'])\n",
    "cb_tool.place(x=pos_x_in, y=y_tool)\n",
    "cb_tool.current(0)\n",
    "\n",
    "\n",
    "btn = Button(window, text=\"Calculate\", fg='blue', command=predict)\n",
    "btn.place(x=pos_x_labels, y=y_tool+35);"
   ]
  },
  {
   "cell_type": "code",
   "execution_count": 306,
   "metadata": {},
   "outputs": [
    {
     "name": "stdout",
     "output_type": "stream",
     "text": [
      "Process parameters:\n",
      "FLOWFACTOR:\t0.93\n",
      "SPACING:\t0.35\n",
      "DEP TIME:\t68 s\n",
      "TOOL:\t\t#1\n",
      "Temperature:\t480 °C\n",
      "\n"
     ]
    },
    {
     "data": {
      "image/png": "[encoded data removed]",
      "text/plain": [
       "<Figure size 720x576 with 2 Axes>"
      ]
     },
     "metadata": {
      "needs_background": "light"
     },
     "output_type": "display_data"
    }
   ],
   "source": [
    "window.mainloop();"
   ]
  }
 ],
 "metadata": {
  "kernelspec": {
   "display_name": "Python 3",
   "language": "python",
   "name": "python3"
  },
  "language_info": {
   "codemirror_mode": {
    "name": "ipython",
    "version": 3
   },
   "file_extension": ".py",
   "mimetype": "text/x-python",
   "name": "python",
   "nbconvert_exporter": "python",
   "pygments_lexer": "ipython3",
   "version": "3.7.7"
  }
 },
 "nbformat": 4,
 "nbformat_minor": 4
}
