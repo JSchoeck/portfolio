{
 "cells": [
  {
   "cell_type": "markdown",
   "metadata": {},
   "source": [
    "# Modelling and prediction of a CVD process\n",
    "1. Use regression model to predict thickness for every single site\n",
    "2. Adapt model to also consider X and Y coordinates of the site to form a single model\n",
    "\n",
    "## TODO\n",
    "- Integrate temperature via scaling of predicted output values\n",
    "- Optional: Hyperparameter tuning for ANN, improve stability of model quality, show learning rate\n",
    "- Optional: Encode TOOL into dummy variables instead of scalar\n",
    "- Optional: encode X, Y coordinates into dummy variables / allow for prediction based on any X and Y coordinates, not only fixed sites"
   ]
  },
  {
   "cell_type": "markdown",
   "metadata": {},
   "source": [
    "## 1. Preprocessing\n",
    "### Import data\n",
    "- Import raw data from csv files\n",
    "- Set all independant variables as X as array\n",
    "- Set dependant variable Layer thickness as y\n",
    "\n",
    "### Split data & Feature scaling\n",
    "- Split into training and test data (75:25)\n",
    "- Fix seed for randomness\n",
    "- Scale all features using StandardScaler\n",
    "\n",
    "### Inlcude temperature\n",
    "- Thickness factors from literature:\n",
    "  - 500 °C = 0.94\n",
    "  - 480 °C = 1.0 (*default*)\n",
    "  - 460 °C = 1.04"
   ]
  },
  {
   "cell_type": "code",
   "execution_count": 181,
   "metadata": {},
   "outputs": [],
   "source": [
    "import pandas as pd\n",
    "import numpy as np\n",
    "from tkinter import *\n",
    "from tkinter.ttk import Combobox\n",
    "from matplotlib.figure import Figure\n",
    "from matplotlib.backends.backend_tkagg import FigureCanvasTkAgg\n",
    "from numpy.random import seed\n",
    "from sklearn.metrics import r2_score\n",
    "from sklearn.model_selection import cross_val_score, train_test_split\n",
    "from sklearn.preprocessing import StandardScaler, OneHotEncoder, PolynomialFeatures\n",
    "from keras.layers import Dense\n",
    "from keras.models import Sequential\n",
    "from keras.optimizers import RMSprop\n",
    "from tensorflow import random\n",
    "\n",
    "%matplotlib inline\n",
    "from matplotlib import pyplot as plt\n",
    "plt.rcParams['figure.figsize'] = [10, 8]\n",
    "\n",
    "seed(0)\n",
    "random.set_seed(0)\n",
    "\n",
    "DIR = './'\n",
    "SITES = 'site_coordinates.csv'\n",
    "DATA = 'test_assignment_sim.csv'\n",
    "\n",
    "raw_sites = pd.read_csv(DIR+SITES)\n",
    "raw_data = pd.read_csv(DIR+DATA)\n",
    "\n",
    "X = raw_data.iloc[:,0:53]\n",
    "y = raw_data.iloc[:,4:53]\n",
    "\n",
    "# Add Temperature as feature in X\n",
    "# Scale final prediction based on temperature\n",
    "X['Temperature'] = 480\n",
    "#X_500 = X.copy()\n",
    "#X_500['Temperature'] = 500\n",
    "#X_460 = X.copy()\n",
    "#X_460['Temperature'] = 460\n",
    "\n",
    "# Adjust Thickness in y for 460 and 500 °C\n",
    "#y_500 = y.copy()\n",
    "#y_500 = y_500  *0.94\n",
    "#y_460 = y.copy()\n",
    "#y_460 = y_460 * 1.04\n",
    "#y = y.append(y_500, ignore_index=True).append(y_460, ignore_index=True)\n",
    "\n",
    "# Adjust Thickness in X for 460 and 500 °C\n",
    "#X_500.iloc[:, 4:-1] = X_500.iloc[:, 4:-1] * 0.94\n",
    "#X_460.iloc[:, 4:-1] = X_460.iloc[:, 4:-1] * 1.04\n",
    "#X = X.append(X_500, ignore_index=True).append(X_460, ignore_index=True)\n",
    "\n",
    "# Select only process parameters as independent variables\n",
    "X = X.iloc[:, [0,1,2,3, -1]]\n",
    "\n",
    "def preprocess(X, y):\n",
    "    X_train, X_test, y_train, y_test = train_test_split(X, y, test_size = 0.25, random_state = 0)\n",
    "    sc_X = StandardScaler()\n",
    "    X_train = sc_X.fit_transform(X_train)\n",
    "    X_test = sc_X.transform(X_test)\n",
    "    sc_y = StandardScaler()\n",
    "    y_train = sc_y.fit_transform(y_train)\n",
    "    return X_train, X_test, y_train, y_test, sc_X, sc_y"
   ]
  },
  {
   "cell_type": "markdown",
   "metadata": {},
   "source": [
    "## 2. Train model"
   ]
  },
  {
   "cell_type": "code",
   "execution_count": 3,
   "metadata": {},
   "outputs": [
    {
     "name": "stdout",
     "output_type": "stream",
     "text": [
      "r^2 score:  0.9731737670846602\n"
     ]
    }
   ],
   "source": [
    "# 5 input nodes\n",
    "# 2 layers of 27 nodes\n",
    "# 49 output nodes\n",
    "# r^2 score = 0.974 +/- 0.1?\n",
    "\n",
    "X_train, X_test, y_train, y_test, sc_X, sc_y = preprocess(X, y)\n",
    "regressor = Sequential()\n",
    "regressor.add(Dense(units=27, activation='relu', input_dim=X_train.shape[1]))\n",
    "regressor.add(Dense(units=27, activation='relu'))\n",
    "regressor.add(Dense(units=49))\n",
    "regressor.compile(optimizer=RMSprop(0.001), loss='mse', metrics=['mae','mse'])\n",
    "regressor.fit(X_train, y_train, batch_size=10, epochs=100, verbose=0)\n",
    "y_pred = sc_y.inverse_transform(regressor.predict(X_test))\n",
    "r2_ann_multi = r2_score(y_test, y_pred)\n",
    "print('r^2 score: ', r2_ann_multi);"
   ]
  },
  {
   "cell_type": "markdown",
   "metadata": {},
   "source": [
    "## 3. Predictions\n",
    "**Input process parameters to get a prediction of layer thickness on all wafer sites:**"
   ]
  },
  {
   "cell_type": "code",
   "execution_count": null,
   "metadata": {},
   "outputs": [],
   "source": [
    "def predict():\n",
    "#def predict(flow = 0.92, spacing = 0.35, deptime = 70, tool = 2, temperature = 480):\n",
    "    flow = in_flow.get()\n",
    "    spacing = in_spacing.get()\n",
    "    deptime = in_deptime.get()\n",
    "    temperature = in_temperature.get()\n",
    "    tool = cb_tool.get()\n",
    "    \n",
    "    parameters = np.array([flow, spacing, deptime, tool, temperature]).reshape(1,-1)\n",
    "    parameters = sc_X.transform(parameters)\n",
    "    print('Process parameters:\\nFLOWFACTOR:\\t{}\\nSPACING:\\t{}\\nDEP TIME:\\t{} s\\nTOOL:\\t\\t#{}\\nTemperature:\\t{} °C\\n'.format(\n",
    "    flow, spacing, deptime, tool, temperature))\n",
    "    y_pred = sc_y.inverse_transform(regressor.predict(parameters))\n",
    "    print('Predicted SiO2 layer thickness for all sites (1 - 49):\\n\\n', y_pred);\n",
    "    \n",
    "    lbl_result = Label(window, text=\"Thickness prediction: \", font=(\"Helvetica\", 11))\n",
    "    lbl_result.place(x=pos_x_labels, y=y_tool+70)\n",
    "    result_box = Listbox(window, height=20)\n",
    "    for _ in range(0, len(y_pred[0])):\n",
    "        entry = 'Site ' + str(_) + ': ' + str(y_pred[0][_])\n",
    "        result_box.insert(_+1, entry)\n",
    "    result_box.place(x=pos_x_labels+3, y=y_tool+95)\n",
    "    \n",
    "    df_pred = pd.DataFrame()\n",
    "    df_pred['Prediction'] = y_pred.flatten()\n",
    "    df_pred['X'] = raw_sites.SITE_X.values.round(0)\n",
    "    df_pred['Y'] = raw_sites.SITE_Y.values.round(0)\n",
    "    fig, ax1 = plt.subplots()\n",
    "    fig = Figure(figsize = (9, 6), facecolor = \"white\")\n",
    "    ax1.set_title('Predicted SiO2 layer thickness')\n",
    "\n",
    "    df_pred.plot.scatter('X', 'Y', c='Prediction', colormap='Blues', ax=ax1)\n",
    "    # siehe http://blog.schockwellenreiter.de/2017/07/2017071803.html\n",
    "    canvas = FigureCanvasTkAgg(fig, master = window)\n",
    "    #canvas._tkcanvas.pack(side = tkinter.TOP, fill = tkinter.BOTH, expand = 1)\n",
    "    return y_pred"
   ]
  },
  {
   "cell_type": "code",
   "execution_count": 190,
   "metadata": {},
   "outputs": [
    {
     "name": "stdout",
     "output_type": "stream",
     "text": [
      "Process parameters:\n",
      "FLOWFACTOR:\t0.93\n",
      "SPACING:\t0.35\n",
      "DEP TIME:\t68 s\n",
      "TOOL:\t\t#3\n",
      "Temperature:\t480 °C\n",
      "\n",
      "Predicted SiO2 layer thickness for all sites (1 - 49):\n",
      "\n",
      " [[1433.9572 1405.0398 1439.2379 1434.7142 1434.0214 1430.4054 1442.7784\n",
      "  1442.3138 1438.661  1471.2316 1468.5676 1470.1423 1467.7303 1465.9049\n",
      "  1463.8109 1460.9425 1459.0864 1456.3063 1472.4149 1471.9606 1471.1064\n",
      "  1469.7777 1471.5793 1473.3794 1473.0735 1410.4941 1415.3949 1410.6349\n",
      "  1409.065  1408.7882 1409.6793 1408.3336 1405.0165 1404.1371 1403.0916\n",
      "  1401.7291 1401.7874 1400.0181 1412.0922 1414.2323 1412.8362 1416.909\n",
      "  1417.8838 1413.2594 1414.2982 1412.7036 1413.4751 1412.6177 1413.6653]]\n"
     ]
    },
    {
     "data": {
      "image/png": "[encoded data removed]",
      "text/plain": [
       "<Figure size 720x576 with 2 Axes>"
      ]
     },
     "metadata": {
      "needs_background": "light"
     },
     "output_type": "display_data"
    }
   ],
   "source": [
    "window = Tk()\n",
    "width = 450\n",
    "height = 600\n",
    "pos_x = '+0' # Specify +/- for position from left or right side\n",
    "pos_y = '+0' # Specify +/- for position from left or right side\n",
    "window.title('CVD process predicter')\n",
    "window.geometry('{}x{}{}{}'.format(width, height, pos_x, pos_y))\n",
    "#window.config()\n",
    "\n",
    "lbl_intro = Label(window, text=\"Define process parameters\", font=(\"Helvetica\", 10))\n",
    "lbl_intro.place(x=5, y=5)\n",
    "\n",
    "pos_x_labels = 5\n",
    "pos_y_labels = 35\n",
    "pos_x_in = pos_x_labels + 150\n",
    "\n",
    "lbl_flow = Label(window, text=\"Flow factor: \", font=(\"Helvetica\", 11))\n",
    "lbl_flow.place(x=pos_x_labels, y=pos_y_labels)\n",
    "in_flow = Entry(window, bd=1)\n",
    "in_flow.insert(0, '0.93')\n",
    "in_flow.place(x=pos_x_in, y=pos_y_labels+2)\n",
    "\n",
    "lbl_spacing = Label(window, text=\"Spacing: \", font=(\"Helvetica\", 11))\n",
    "lbl_spacing.place(x=pos_x_labels, y=pos_y_labels+5*6)\n",
    "in_spacing = Entry(window, bd=1)\n",
    "in_spacing.insert(0, '0.35')\n",
    "in_spacing.place(x=pos_x_in, y=pos_y_labels+5*6+2)\n",
    "\n",
    "lbl_deptime = Label(window, text=\"Deposition time [s]: \", font=(\"Helvetica\", 11))\n",
    "lbl_deptime.place(x=pos_x_labels, y=pos_y_labels+5*11)\n",
    "in_deptime = Entry(window, bd=1)\n",
    "in_deptime.insert(0, '68')\n",
    "in_deptime.place(x=pos_x_in, y=pos_y_labels+5*11+2)\n",
    "\n",
    "lbl_temperature = Label(window, text=\"Temperature [°C]: \", font=(\"Helvetica\", 11))\n",
    "lbl_temperature.place(x=pos_x_labels, y=pos_y_labels+5*16)\n",
    "in_temperature = Entry(window, bd=1)\n",
    "in_temperature.insert(0, '480')\n",
    "in_temperature.place(x=pos_x_in, y=pos_y_labels+5*16+2)\n",
    "\n",
    "y_tool = pos_y_labels+5*21\n",
    "lbl_tool = Label(window, text=\"Tool: \", font=(\"Helvetica\", 11))\n",
    "lbl_tool.place(x=pos_x_labels, y=y_tool)\n",
    "cb_tool = Combobox(window, values=['1', '2', '3', '4'])\n",
    "cb_tool.place(x=pos_x_in, y=y_tool)\n",
    "cb_tool.current(0)\n",
    "\n",
    "\n",
    "btn = Button(window, text=\"Calculate\", fg='blue', command=predict)\n",
    "btn.place(x=pos_x_labels, y=y_tool+35)\n",
    "\n",
    "window.mainloop();"
   ]
  }
 ],
 "metadata": {
  "kernelspec": {
   "display_name": "Python 3",
   "language": "python",
   "name": "python3"
  },
  "language_info": {
   "codemirror_mode": {
    "name": "ipython",
    "version": 3
   },
   "file_extension": ".py",
   "mimetype": "text/x-python",
   "name": "python",
   "nbconvert_exporter": "python",
   "pygments_lexer": "ipython3",
   "version": "3.7.7"
  }
 },
 "nbformat": 4,
 "nbformat_minor": 4
}
