{
 "cells": [
  {
   "cell_type": "markdown",
   "metadata": {},
   "source": [
    "# Case Study Sales - Time Series Forecasting\n",
    "\n",
    "x.\n",
    "I ask and try to answer questions like:\n",
    "- x\n",
    "\n",
    "Methods employed:\n",
    "- x\n",
    "\n",
    "Tools and frameworks that I used:\n",
    "- Pandas\n",
    "- Numpy\n",
    "- Matplotlib, Seaborn\n",
    "- Scikit-learn\n",
    "- Tensorflow, Keras\n",
    "\n",
    "*Data and inspiration from: https://www.udemy.com/course/data-science-for-business-6-real-world-case-studies/*"
   ]
  },
  {
   "source": [
    "## 1. Import, analyze and pre-clean data set"
   ],
   "cell_type": "markdown",
   "metadata": {}
  },
  {
   "cell_type": "code",
   "execution_count": null,
   "metadata": {},
   "outputs": [],
   "source": []
  }
 ],
 "metadata": {
  "kernelspec": {
   "display_name": "Python 3",
   "language": "python",
   "name": "python3"
  },
  "language_info": {
   "codemirror_mode": {
    "name": "ipython",
    "version": 3
   },
   "file_extension": ".py",
   "mimetype": "text/x-python",
   "name": "python",
   "nbconvert_exporter": "python",
   "pygments_lexer": "ipython3",
   "version": "3.7.9"
  }
 },
 "nbformat": 4,
 "nbformat_minor": 4
}